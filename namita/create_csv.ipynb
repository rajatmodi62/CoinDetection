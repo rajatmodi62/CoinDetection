{
 "cells": [
  {
   "cell_type": "code",
   "execution_count": 1,
   "metadata": {},
   "outputs": [],
   "source": [
    "import pandas as pd\n",
    "import numpy as np \n",
    "from pathlib import Path\n",
    "from tqdm import tqdm\n",
    "import shutil\n",
    "from glob import glob\n",
    "import os \n",
    "from collections import defaultdict\n"
   ]
  },
  {
   "cell_type": "code",
   "execution_count": 2,
   "metadata": {},
   "outputs": [
    {
     "data": {
      "text/plain": [
       "'1 Cent,Australian dollar,australia'"
      ]
     },
     "execution_count": 2,
     "metadata": {},
     "output_type": "execute_result"
    }
   ],
   "source": [
    "import json \n",
    "def convert_labels_to_names(path,label):    \n",
    "    with open(path) as json_file:\n",
    "        data = json.load(json_file)\n",
    "    return data[str(label)]\n",
    "convert_labels_to_names('../cat_to_name.json',1)"
   ]
  },
  {
   "cell_type": "code",
   "execution_count": 3,
   "metadata": {},
   "outputs": [
    {
     "name": "stdout",
     "output_type": "stream",
     "text": [
      "1    110  122  134  146  158  17   181\t193  204  26  38  5   61  73  85  97\r\n",
      "10   111  123  135  147  159  170  182\t194  205  27  39  50  62  74  86  98\r\n",
      "100  112  124  136  148  16   171  183\t195  206  28  4   51  63  75  87  99\r\n",
      "101  113  125  137  149  160  172  184\t196  207  29  40  52  64  76  88\r\n",
      "102  114  126  138  15\t 161  173  185\t197  208  3   41  53  65  77  89\r\n",
      "103  115  127  139  150  162  174  186\t198  209  30  42  54  66  78  9\r\n",
      "104  116  128  14   151  163  175  187\t199  21   31  43  55  67  79  90\r\n",
      "105  117  129  140  152  164  176  188\t2    210  32  44  56  68  8   91\r\n",
      "106  118  13   141  153  165  177  189\t20   211  33  45  57  69  80  92\r\n",
      "107  119  130  142  154  166  178  19\t200  22   34  46  58  7   81  93\r\n",
      "108  12   131  143  155  167  179  190\t201  23   35  47  59  70  82  94\r\n",
      "109  120  132  144  156  168  18   191\t202  24   36  48  6   71  83  95\r\n",
      "11   121  133  145  157  169  180  192\t203  25   37  49  60  72  84  96\r\n"
     ]
    }
   ],
   "source": [
    "!ls ../dataset/train"
   ]
  },
  {
   "cell_type": "code",
   "execution_count": 1,
   "metadata": {},
   "outputs": [
    {
     "ename": "NameError",
     "evalue": "name 'defaultdict' is not defined",
     "output_type": "error",
     "traceback": [
      "\u001b[0;31m--------------------------------------------------------------\u001b[0m",
      "\u001b[0;31mNameError\u001b[0m                    Traceback (most recent call last)",
      "\u001b[0;32m<ipython-input-1-4d8896179c3e>\u001b[0m in \u001b[0;36m<module>\u001b[0;34m\u001b[0m\n\u001b[0;32m----> 1\u001b[0;31m \u001b[0mgodzilla_dic\u001b[0m \u001b[0;34m=\u001b[0m \u001b[0mdefaultdict\u001b[0m\u001b[0;34m(\u001b[0m\u001b[0mdict\u001b[0m\u001b[0;34m)\u001b[0m\u001b[0;34m\u001b[0m\u001b[0;34m\u001b[0m\u001b[0m\n\u001b[0m\u001b[1;32m      2\u001b[0m \u001b[0;34m\u001b[0m\u001b[0m\n\u001b[1;32m      3\u001b[0m \u001b[0mlocal_data_path\u001b[0m \u001b[0;34m=\u001b[0m \u001b[0mPath\u001b[0m\u001b[0;34m(\u001b[0m\u001b[0;34m'../dataset/train'\u001b[0m\u001b[0;34m)\u001b[0m\u001b[0;34m.\u001b[0m\u001b[0mabsolute\u001b[0m\u001b[0;34m(\u001b[0m\u001b[0;34m)\u001b[0m\u001b[0;34m\u001b[0m\u001b[0;34m\u001b[0m\u001b[0m\n\u001b[1;32m      4\u001b[0m \u001b[0;34m\u001b[0m\u001b[0m\n\u001b[1;32m      5\u001b[0m \u001b[0;32mfor\u001b[0m \u001b[0midx\u001b[0m\u001b[0;34m,\u001b[0m\u001b[0mi\u001b[0m \u001b[0;32min\u001b[0m \u001b[0menumerate\u001b[0m\u001b[0;34m(\u001b[0m\u001b[0mos\u001b[0m\u001b[0;34m.\u001b[0m\u001b[0mlistdir\u001b[0m\u001b[0;34m(\u001b[0m\u001b[0mlocal_data_path\u001b[0m\u001b[0;34m)\u001b[0m\u001b[0;34m)\u001b[0m\u001b[0;34m:\u001b[0m\u001b[0;34m\u001b[0m\u001b[0;34m\u001b[0m\u001b[0m\n",
      "\u001b[0;31mNameError\u001b[0m: name 'defaultdict' is not defined"
     ]
    }
   ],
   "source": [
    "\n",
    "godzilla_dic = defaultdict(dict)\n",
    "\n",
    "local_data_path = Path('../dataset/train').absolute()\n",
    "\n",
    "for idx,i in enumerate(os.listdir(local_data_path)):\n",
    "    img_category=convert_labels_to_names('../cat_to_name.json',int(i))\n",
    "    print(i)\n",
    "    for images in os.listdir(local_data_path/i):\n",
    "        godzilla_dic[images]['ImageId']=images\n",
    "        godzilla_dic[images]['CategoryName']=img_category\n",
    "        godzilla_dic[images]['CategoryId']=i\n",
    "        "
   ]
  },
  {
   "cell_type": "code",
   "execution_count": 2,
   "metadata": {},
   "outputs": [
    {
     "ename": "NameError",
     "evalue": "name 'godzilla_dic' is not defined",
     "output_type": "error",
     "traceback": [
      "\u001b[0;31m--------------------------------------------------------------\u001b[0m",
      "\u001b[0;31mNameError\u001b[0m                    Traceback (most recent call last)",
      "\u001b[0;32m<ipython-input-2-1b6a1c96aa9d>\u001b[0m in \u001b[0;36m<module>\u001b[0;34m\u001b[0m\n\u001b[0;32m----> 1\u001b[0;31m \u001b[0mgodzilla_dic\u001b[0m\u001b[0;34m.\u001b[0m\u001b[0mitems\u001b[0m\u001b[0;34m(\u001b[0m\u001b[0;34m)\u001b[0m\u001b[0;34m\u001b[0m\u001b[0;34m\u001b[0m\u001b[0m\n\u001b[0m",
      "\u001b[0;31mNameError\u001b[0m: name 'godzilla_dic' is not defined"
     ]
    }
   ],
   "source": [
    "godzilla_dic.items()"
   ]
  },
  {
   "cell_type": "code",
   "execution_count": null,
   "metadata": {},
   "outputs": [],
   "source": [
    "df = pd.DataFrame(columns=['Img_Id', 'Category_Label', 'Category_Name'])"
   ]
  },
  {
   "cell_type": "code",
   "execution_count": 8,
   "metadata": {},
   "outputs": [],
   "source": [
    "id_list=[]\n",
    "label_list=[]\n",
    "name_list=[]\n",
    "fold_list=[]\n",
    "for i in godzilla_dic.keys():\n",
    "        id_list.append(godzilla_dic[i]['ImageId'])\n",
    "        label_list.append(godzilla_dic[i]['CategoryName'])\n",
    "        name_list.append(godzilla_dic[i]['CategoryId'])\n",
    "        fold_list.append(0)"
   ]
  },
  {
   "cell_type": "code",
   "execution_count": 9,
   "metadata": {},
   "outputs": [],
   "source": [
    "df = pd.DataFrame(\n",
    "    {'ImageId': id_list,\n",
    "     'CategoryName': label_list,\n",
    "     'CategoryId': name_list,\n",
    "     'Fold':0\n",
    "    })"
   ]
  },
  {
   "cell_type": "code",
   "execution_count": 10,
   "metadata": {},
   "outputs": [],
   "source": [
    "df.to_csv('train.csv')"
   ]
  },
  {
   "cell_type": "code",
   "execution_count": null,
   "metadata": {},
   "outputs": [],
   "source": [
    "!ls"
   ]
  },
  {
   "cell_type": "code",
   "execution_count": null,
   "metadata": {},
   "outputs": [],
   "source": []
  }
 ],
 "metadata": {
  "kernelspec": {
   "display_name": "Python 3",
   "language": "python",
   "name": "python3"
  },
  "language_info": {
   "codemirror_mode": {
    "name": "ipython",
    "version": 3
   },
   "file_extension": ".py",
   "mimetype": "text/x-python",
   "name": "python",
   "nbconvert_exporter": "python",
   "pygments_lexer": "ipython3",
   "version": "3.7.3"
  }
 },
 "nbformat": 4,
 "nbformat_minor": 2
}
